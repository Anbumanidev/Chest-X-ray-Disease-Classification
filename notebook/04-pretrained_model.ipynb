{
 "cells": [
  {
   "cell_type": "code",
   "execution_count": 1,
   "id": "10d0bd00",
   "metadata": {},
   "outputs": [
    {
     "name": "stdout",
     "output_type": "stream",
     "text": [
      "(2208, 224, 224, 3) (2208, 15)\n",
      "(736, 224, 224, 3) (736, 15)\n",
      "(737, 224, 224, 3) (737, 15)\n"
     ]
    },
    {
     "data": {
      "text/plain": [
       "array([[[25, 25, 25],\n",
       "        [21, 21, 21],\n",
       "        [19, 19, 19],\n",
       "        ...,\n",
       "        [24, 24, 24],\n",
       "        [24, 24, 24],\n",
       "        [24, 24, 24]],\n",
       "\n",
       "       [[26, 26, 26],\n",
       "        [25, 25, 25],\n",
       "        [25, 25, 25],\n",
       "        ...,\n",
       "        [33, 33, 33],\n",
       "        [32, 32, 32],\n",
       "        [33, 33, 33]],\n",
       "\n",
       "       [[26, 26, 26],\n",
       "        [25, 25, 25],\n",
       "        [25, 25, 25],\n",
       "        ...,\n",
       "        [32, 32, 32],\n",
       "        [33, 33, 33],\n",
       "        [34, 34, 34]],\n",
       "\n",
       "       ...,\n",
       "\n",
       "       [[94, 94, 94],\n",
       "        [77, 77, 77],\n",
       "        [65, 65, 65],\n",
       "        ...,\n",
       "        [25, 25, 25],\n",
       "        [25, 25, 25],\n",
       "        [26, 26, 26]],\n",
       "\n",
       "       [[87, 87, 87],\n",
       "        [74, 74, 74],\n",
       "        [63, 63, 63],\n",
       "        ...,\n",
       "        [23, 23, 23],\n",
       "        [23, 23, 23],\n",
       "        [24, 24, 24]],\n",
       "\n",
       "       [[74, 74, 74],\n",
       "        [69, 69, 69],\n",
       "        [59, 59, 59],\n",
       "        ...,\n",
       "        [22, 22, 22],\n",
       "        [22, 22, 22],\n",
       "        [21, 21, 21]]], dtype=uint8)"
      ]
     },
     "execution_count": 1,
     "metadata": {},
     "output_type": "execute_result"
    }
   ],
   "source": [
    "import numpy as np\n",
    "import pandas as pd\n",
    "\n",
    "\n",
    "X_train = np.load(r'E:\\AIML-Projects\\Chest-X-ray-Disease-Classification\\Preprocessed_Data\\X_train.npy', allow_pickle=True)\n",
    "X_val = np.load(r'E:\\AIML-Projects\\Chest-X-ray-Disease-Classification\\Preprocessed_Data\\X_val.npy', allow_pickle=True)\n",
    "X_test = np.load(r'E:\\AIML-Projects\\Chest-X-ray-Disease-Classification\\Preprocessed_Data\\X_test.npy', allow_pickle=True)\n",
    "y_train = np.load(r'E:\\AIML-Projects\\Chest-X-ray-Disease-Classification\\Preprocessed_Data\\y_train.npy', allow_pickle=True)\n",
    "y_val = np.load(r'E:\\AIML-Projects\\Chest-X-ray-Disease-Classification\\Preprocessed_Data\\y_val.npy', allow_pickle=True)\n",
    "y_test = np.load(r'E:\\AIML-Projects\\Chest-X-ray-Disease-Classification\\Preprocessed_Data\\y_test.npy', allow_pickle=True)\n",
    "\n",
    "print(X_train.shape, y_train.shape)\n",
    "print(X_val.shape, y_val.shape)\n",
    "print(X_test.shape, y_test.shape)\n",
    "X_train[0]"
   ]
  },
  {
   "cell_type": "code",
   "execution_count": 2,
   "id": "72ba6bcc",
   "metadata": {},
   "outputs": [],
   "source": [
    "# Convert images to float32 and scale to [0,1]\n",
    "X_train = X_train.astype('float32') / 255.0\n",
    "X_val   = X_val.astype('float32')   / 255.0\n",
    "X_test  = X_test.astype('float32')  / 255.0"
   ]
  },
  {
   "cell_type": "code",
   "execution_count": null,
   "id": "e359cd79",
   "metadata": {},
   "outputs": [],
   "source": [
    "import imgaug.augmenters as iaa\n",
    "import cv2\n",
    "import numpy as np\n",
    "import matplotlib.pyplot as plt\n",
    "\n",
    "# Define ALL augmentations in ONE line!\n",
    "augmenter = iaa.Sequential([\n",
    "    # Gaussian noise\n",
    "    iaa.AdditiveGaussianNoise(scale=(0, 0.05*255)),\n",
    "    \n",
    "    # Rotation (±15 degrees)\n",
    "    iaa.Affine(rotate=(-15, 15)),\n",
    "    \n",
    "    # Perspective transformation\n",
    "    iaa.PerspectiveTransform(scale=(0.01, 0.1)),\n",
    "    \n",
    "    # Histogram equalization\n",
    "    iaa.AllChannelsHistogramEqualization(),\n",
    "    \n",
    "    # You can add more easily!\n",
    "    iaa.Fliplr(0.5),  # 50% chance horizontal flip\n",
    "    iaa.GaussianBlur(sigma=(0, 1.0))  # Random blur\n",
    "])"
   ]
  },
  {
   "cell_type": "code",
   "execution_count": null,
   "id": "8d81e5e6",
   "metadata": {},
   "outputs": [],
   "source": [
    "\n",
    "\n",
    "def augment_generator(X, y, batch_size=32):\n",
    "    \"\"\"Yields augmented batches indefinitely\"\"\"\n",
    "    n = len(X)\n",
    "    while True:\n",
    "        idx = np.random.choice(n, batch_size, replace=False)\n",
    "        batch_X = X[idx]\n",
    "\n",
    "        # convert to uint8 for imgaug\n",
    "        batch_X_uint8 = (batch_X * 255).astype(np.uint8)\n",
    "        \n",
    "        # apply augmentations in one go\n",
    "        batch_X_aug = augmenter(images=batch_X_uint8)\n",
    "        \n",
    "        # back to float32 [0,1]\n",
    "        batch_X_aug = np.array(batch_X_aug, dtype=np.float32) / 255.0\n",
    "\n",
    "        yield batch_X_aug, y[idx]"
   ]
  },
  {
   "cell_type": "code",
   "execution_count": 10,
   "id": "fe5a3782",
   "metadata": {},
   "outputs": [
    {
     "name": "stdout",
     "output_type": "stream",
     "text": [
      "WARNING:tensorflow:From c:\\Users\\THAMIZH\\miniconda3\\envs\\gpu_env\\lib\\site-packages\\keras\\src\\losses.py:2976: The name tf.losses.sparse_softmax_cross_entropy is deprecated. Please use tf.compat.v1.losses.sparse_softmax_cross_entropy instead.\n",
      "\n"
     ]
    },
    {
     "name": "stderr",
     "output_type": "stream",
     "text": [
      "c:\\Users\\THAMIZH\\miniconda3\\envs\\gpu_env\\lib\\site-packages\\tensorflow_addons\\utils\\tfa_eol_msg.py:23: UserWarning: \n",
      "\n",
      "TensorFlow Addons (TFA) has ended development and introduction of new features.\n",
      "TFA has entered a minimal maintenance and release mode until a planned end of life in May 2024.\n",
      "Please modify downstream libraries to take dependencies from other repositories in our TensorFlow community (e.g. Keras, Keras-CV, and Keras-NLP). \n",
      "\n",
      "For more information see: https://github.com/tensorflow/addons/issues/2807 \n",
      "\n",
      "  warnings.warn(\n",
      "c:\\Users\\THAMIZH\\miniconda3\\envs\\gpu_env\\lib\\site-packages\\tensorflow_addons\\utils\\ensure_tf_install.py:53: UserWarning: Tensorflow Addons supports using Python ops for all Tensorflow versions above or equal to 2.12.0 and strictly below 2.15.0 (nightly versions are not supported). \n",
      " The versions of TensorFlow you are currently using is 2.15.0 and is not supported. \n",
      "Some things might work, some things might not.\n",
      "If you were to encounter a bug, do not file an issue.\n",
      "If you want to make sure you're using a tested and supported configuration, either change the TensorFlow version or the TensorFlow Addons's version. \n",
      "You can find the compatibility matrix in TensorFlow Addon's readme:\n",
      "https://github.com/tensorflow/addons\n",
      "  warnings.warn(\n"
     ]
    }
   ],
   "source": [
    "import tensorflow as tf\n",
    "from tensorflow.keras.applications import DenseNet121\n",
    "from tensorflow.keras import layers, models, optimizers\n",
    "from tensorflow.keras.callbacks import EarlyStopping, ReduceLROnPlateau, ModelCheckpoint, CSVLogger\n",
    "\n",
    "from tensorflow.keras.preprocessing.image import ImageDataGenerator\n",
    "import tensorflow_addons as tfa\n",
    "\n",
    "NUM_CLASSES = len(y_train[0])"
   ]
  },
  {
   "cell_type": "code",
   "execution_count": 11,
   "id": "abcaa3df",
   "metadata": {},
   "outputs": [
    {
     "name": "stdout",
     "output_type": "stream",
     "text": [
      "WARNING:tensorflow:From c:\\Users\\THAMIZH\\miniconda3\\envs\\gpu_env\\lib\\site-packages\\keras\\src\\backend.py:1398: The name tf.executing_eagerly_outside_functions is deprecated. Please use tf.compat.v1.executing_eagerly_outside_functions instead.\n",
      "\n",
      "WARNING:tensorflow:From c:\\Users\\THAMIZH\\miniconda3\\envs\\gpu_env\\lib\\site-packages\\keras\\src\\layers\\normalization\\batch_normalization.py:979: The name tf.nn.fused_batch_norm is deprecated. Please use tf.compat.v1.nn.fused_batch_norm instead.\n",
      "\n",
      "Model: \"sequential\"\n",
      "_________________________________________________________________\n",
      " Layer (type)                Output Shape              Param #   \n",
      "=================================================================\n",
      " densenet121 (Functional)    (None, 7, 7, 1024)        7037504   \n",
      "                                                                 \n",
      " global_average_pooling2d (  (None, 1024)              0         \n",
      " GlobalAveragePooling2D)                                         \n",
      "                                                                 \n",
      " dropout (Dropout)           (None, 1024)              0         \n",
      "                                                                 \n",
      " dense (Dense)               (None, 521)               534025    \n",
      "                                                                 \n",
      " dropout_1 (Dropout)         (None, 521)               0         \n",
      "                                                                 \n",
      " dense_1 (Dense)             (None, 256)               133632    \n",
      "                                                                 \n",
      " dropout_2 (Dropout)         (None, 256)               0         \n",
      "                                                                 \n",
      " dense_2 (Dense)             (None, 15)                3855      \n",
      "                                                                 \n",
      "=================================================================\n",
      "Total params: 7709016 (29.41 MB)\n",
      "Trainable params: 1747160 (6.66 MB)\n",
      "Non-trainable params: 5961856 (22.74 MB)\n",
      "_________________________________________________________________\n"
     ]
    }
   ],
   "source": [
    "#  model build\n",
    "\n",
    "base_cnn = DenseNet121(weights='imagenet', include_top=False, input_shape=(224, 224, 3))\n",
    "\n",
    "base_cnn.trainable = True\n",
    "for layer in base_cnn.layers[:-50]:\n",
    "    layer.trainable = False\n",
    "\n",
    "# model creation\n",
    "\n",
    "model = models.Sequential([\n",
    "    base_cnn,\n",
    "    layers.GlobalAveragePooling2D(),\n",
    "    layers.Dropout(0.3),\n",
    "    layers.Dense(521, activation='relu'),\n",
    "    layers.Dropout(0.3),\n",
    "    layers.Dense(256, activation='relu'),\n",
    "    layers.Dropout(0.5),\n",
    "    layers.Dense(NUM_CLASSES, activation='sigmoid')\n",
    "])\n",
    "\n",
    "# Use SigmoidFocalCrossEntropy from TensorFlow Addons\n",
    "focal_loss = tfa.losses.SigmoidFocalCrossEntropy(\n",
    "    alpha=0.25,  # Balance factor for class imbalance\n",
    "    gamma=2.0    # Focusing parameter to reduce easy examples contribution\n",
    ")\n",
    "\n",
    "model.compile(\n",
    "    optimizer= optimizers.Adam(learning_rate=1e-5),\n",
    "    loss= focal_loss,\n",
    "    metrics=['accuracy', \n",
    "             tf.keras.metrics.Precision(name='precision'),\n",
    "             tf.keras.metrics.Recall(name='recall'),\n",
    "             tf.keras.metrics.AUC(name='auc', multi_label=True),\n",
    "             tf.keras.metrics.AUC(name='auc_per_class', multi_label=True, curve='ROC')\n",
    "             ]\n",
    ")\n",
    "\n",
    "model.summary()"
   ]
  },
  {
   "cell_type": "code",
   "execution_count": 12,
   "id": "09db2a1f",
   "metadata": {},
   "outputs": [],
   "source": [
    "callbacks = [\n",
    "    EarlyStopping(patience=5, restore_best_weights=True, verbose=1, monitor='val_auc'),\n",
    "    ReduceLROnPlateau(factor=0.2, patience=3, min_lr=1e-7, verbose=1, monitor='val_auc'),\n",
    "    ModelCheckpoint('best_densenet_focal_model.h5', save_best_only=True, verbose=1, monitor='val_auc'),\n",
    "    CSVLogger('training_log_focal.csv')\n",
    "]"
   ]
  },
  {
   "cell_type": "code",
   "execution_count": 13,
   "id": "e51dd2a1",
   "metadata": {},
   "outputs": [
    {
     "name": "stdout",
     "output_type": "stream",
     "text": [
      "Epoch 1/20\n",
      "WARNING:tensorflow:From c:\\Users\\THAMIZH\\miniconda3\\envs\\gpu_env\\lib\\site-packages\\keras\\src\\utils\\tf_utils.py:492: The name tf.ragged.RaggedTensorValue is deprecated. Please use tf.compat.v1.ragged.RaggedTensorValue instead.\n",
      "\n",
      "WARNING:tensorflow:From c:\\Users\\THAMIZH\\miniconda3\\envs\\gpu_env\\lib\\site-packages\\keras\\src\\engine\\base_layer_utils.py:384: The name tf.executing_eagerly_outside_functions is deprecated. Please use tf.compat.v1.executing_eagerly_outside_functions instead.\n",
      "\n",
      "69/69 [==============================] - 280s 4s/step - loss: 3.3455 - accuracy: 0.1028 - precision: 0.1091 - recall: 0.4841 - auc: 0.5130 - auc_per_class: 0.5130 - val_loss: 0.8026 - val_accuracy: 0.1766 - val_precision: 0.1864 - val_recall: 0.2689 - val_auc: 0.5039 - val_auc_per_class: 0.5039\n",
      "Epoch 2/20\n",
      "69/69 [==============================] - 267s 4s/step - loss: 1.7233 - accuracy: 0.1291 - precision: 0.1317 - recall: 0.3409 - auc: 0.4978 - auc_per_class: 0.4978 - val_loss: 0.4237 - val_accuracy: 0.3601 - val_precision: 0.4231 - val_recall: 0.0746 - val_auc: 0.5121 - val_auc_per_class: 0.5121\n",
      "Epoch 3/20\n",
      "69/69 [==============================] - 263s 4s/step - loss: 1.2276 - accuracy: 0.1662 - precision: 0.1551 - recall: 0.2688 - auc: 0.5234 - auc_per_class: 0.5234 - val_loss: 0.3477 - val_accuracy: 0.4851 - val_precision: 0.4821 - val_recall: 0.0305 - val_auc: 0.5071 - val_auc_per_class: 0.5071\n",
      "Epoch 4/20\n",
      "69/69 [==============================] - 261s 4s/step - loss: 0.9688 - accuracy: 0.1880 - precision: 0.1838 - recall: 0.2379 - auc: 0.4996 - auc_per_class: 0.4996 - val_loss: 0.3498 - val_accuracy: 0.5408 - val_precision: 0.5667 - val_recall: 0.0192 - val_auc: 0.5091 - val_auc_per_class: 0.5091\n",
      "Epoch 5/20\n",
      "69/69 [==============================] - 252s 4s/step - loss: 0.8490 - accuracy: 0.2092 - precision: 0.2099 - recall: 0.2119 - auc: 0.5069 - auc_per_class: 0.5069 - val_loss: 0.3629 - val_accuracy: 0.5693 - val_precision: 0.6154 - val_recall: 0.0181 - val_auc: 0.5113 - val_auc_per_class: 0.5113\n",
      "Epoch 6/20\n",
      "69/69 [==============================] - 265s 4s/step - loss: 0.7697 - accuracy: 0.2364 - precision: 0.2446 - recall: 0.2054 - auc: 0.5027 - auc_per_class: 0.5027 - val_loss: 0.3742 - val_accuracy: 0.5720 - val_precision: 0.5294 - val_recall: 0.0102 - val_auc: 0.5171 - val_auc_per_class: 0.5171\n",
      "Epoch 7/20\n",
      "69/69 [==============================] - 267s 4s/step - loss: 0.7289 - accuracy: 0.2690 - precision: 0.2527 - recall: 0.1986 - auc: 0.5169 - auc_per_class: 0.5169 - val_loss: 0.3813 - val_accuracy: 0.5747 - val_precision: 0.5385 - val_recall: 0.0079 - val_auc: 0.5182 - val_auc_per_class: 0.5182\n",
      "Epoch 8/20\n",
      "69/69 [==============================] - 255s 4s/step - loss: 0.7146 - accuracy: 0.2536 - precision: 0.2623 - recall: 0.1850 - auc: 0.5012 - auc_per_class: 0.5012 - val_loss: 0.3841 - val_accuracy: 0.5747 - val_precision: 0.7500 - val_recall: 0.0068 - val_auc: 0.5201 - val_auc_per_class: 0.5201\n",
      "Epoch 9/20\n",
      "69/69 [==============================] - 255s 4s/step - loss: 0.6845 - accuracy: 0.2604 - precision: 0.2804 - recall: 0.1821 - auc: 0.5144 - auc_per_class: 0.5144 - val_loss: 0.3782 - val_accuracy: 0.5802 - val_precision: 0.6667 - val_recall: 0.0068 - val_auc: 0.5218 - val_auc_per_class: 0.5218\n",
      "Epoch 10/20\n",
      "69/69 [==============================] - 258s 4s/step - loss: 0.6332 - accuracy: 0.3016 - precision: 0.3241 - recall: 0.2039 - auc: 0.5190 - auc_per_class: 0.5190 - val_loss: 0.3754 - val_accuracy: 0.5815 - val_precision: 0.6667 - val_recall: 0.0068 - val_auc: 0.5237 - val_auc_per_class: 0.5237\n",
      "Epoch 11/20\n",
      "69/69 [==============================] - 272s 4s/step - loss: 0.6199 - accuracy: 0.2885 - precision: 0.3057 - recall: 0.1885 - auc: 0.5078 - auc_per_class: 0.5078 - val_loss: 0.3707 - val_accuracy: 0.5815 - val_precision: 0.7143 - val_recall: 0.0113 - val_auc: 0.5310 - val_auc_per_class: 0.5310\n",
      "Epoch 12/20\n",
      "69/69 [==============================] - 276s 4s/step - loss: 0.6031 - accuracy: 0.3211 - precision: 0.3294 - recall: 0.1871 - auc: 0.5357 - auc_per_class: 0.5357 - val_loss: 0.3622 - val_accuracy: 0.5815 - val_precision: 0.6667 - val_recall: 0.0203 - val_auc: 0.5287 - val_auc_per_class: 0.5287\n",
      "Epoch 13/20\n",
      "69/69 [==============================] - 234s 3s/step - loss: 0.6162 - accuracy: 0.2948 - precision: 0.3219 - recall: 0.1789 - auc: 0.4923 - auc_per_class: 0.4923 - val_loss: 0.3540 - val_accuracy: 0.5815 - val_precision: 0.7368 - val_recall: 0.0158 - val_auc: 0.5330 - val_auc_per_class: 0.5330\n",
      "Epoch 14/20\n",
      "69/69 [==============================] - 198s 3s/step - loss: 0.5859 - accuracy: 0.3084 - precision: 0.3202 - recall: 0.1820 - auc: 0.5207 - auc_per_class: 0.5207 - val_loss: 0.3497 - val_accuracy: 0.5815 - val_precision: 0.7222 - val_recall: 0.0147 - val_auc: 0.5350 - val_auc_per_class: 0.5350\n",
      "Epoch 15/20\n",
      "69/69 [==============================] - 200s 3s/step - loss: 0.5677 - accuracy: 0.3284 - precision: 0.3508 - recall: 0.1945 - auc: 0.5163 - auc_per_class: 0.5163 - val_loss: 0.3460 - val_accuracy: 0.5829 - val_precision: 0.7333 - val_recall: 0.0249 - val_auc: 0.5353 - val_auc_per_class: 0.5353\n",
      "Epoch 16/20\n",
      "69/69 [==============================] - 15584s 229s/step - loss: 0.5558 - accuracy: 0.3370 - precision: 0.3610 - recall: 0.1860 - auc: 0.5083 - auc_per_class: 0.5083 - val_loss: 0.3414 - val_accuracy: 0.5829 - val_precision: 0.7027 - val_recall: 0.0294 - val_auc: 0.5350 - val_auc_per_class: 0.5350\n",
      "Epoch 17/20\n",
      "69/69 [==============================] - 247s 4s/step - loss: 0.5337 - accuracy: 0.3514 - precision: 0.3745 - recall: 0.2027 - auc: 0.5275 - auc_per_class: 0.5275 - val_loss: 0.3373 - val_accuracy: 0.5829 - val_precision: 0.7209 - val_recall: 0.0350 - val_auc: 0.5410 - val_auc_per_class: 0.5410\n",
      "Epoch 18/20\n",
      "69/69 [==============================] - 216s 3s/step - loss: 0.5501 - accuracy: 0.3514 - precision: 0.3731 - recall: 0.1875 - auc: 0.5029 - auc_per_class: 0.5029 - val_loss: 0.3330 - val_accuracy: 0.5829 - val_precision: 0.6863 - val_recall: 0.0395 - val_auc: 0.5435 - val_auc_per_class: 0.5435\n",
      "Epoch 19/20\n",
      "69/69 [==============================] - 221s 3s/step - loss: 0.5204 - accuracy: 0.3591 - precision: 0.3941 - recall: 0.1928 - auc: 0.5223 - auc_per_class: 0.5223 - val_loss: 0.3299 - val_accuracy: 0.5829 - val_precision: 0.6724 - val_recall: 0.0441 - val_auc: 0.5469 - val_auc_per_class: 0.5469\n",
      "Epoch 20/20\n",
      "69/69 [==============================] - 195s 3s/step - loss: 0.5293 - accuracy: 0.3610 - precision: 0.3917 - recall: 0.1951 - auc: 0.4884 - auc_per_class: 0.4884 - val_loss: 0.3258 - val_accuracy: 0.5829 - val_precision: 0.7115 - val_recall: 0.0418 - val_auc: 0.5541 - val_auc_per_class: 0.5541\n"
     ]
    }
   ],
   "source": [
    "batch_size = 32\n",
    "steps_per_epoch = len(X_train) // batch_size\n",
    "\n",
    "history = model.fit(\n",
    "    augment_generator(X_train, y_train, batch_size=batch_size),\n",
    "    validation_data=(X_val, y_val),\n",
    "    epochs=20,\n",
    "    steps_per_epoch=steps_per_epoch\n",
    ")\n"
   ]
  },
  {
   "cell_type": "code",
   "execution_count": 16,
   "id": "18ca1e75",
   "metadata": {},
   "outputs": [
    {
     "name": "stdout",
     "output_type": "stream",
     "text": [
      "24/24 [==============================] - 46s 2s/step - loss: 0.3331 - accuracy: 0.5645 - precision: 0.6562 - recall: 0.0469 - auc: 0.5708 - auc_per_class: 0.5708\n",
      "Test Loss: 0.3331\n",
      "Test Accuracy: 0.5645\n",
      "Test Precision: 0.6562\n",
      "Test Recall: 0.0469\n",
      "Test AUC: 0.5708\n",
      "Test AUC per class: 0.5708\n"
     ]
    }
   ],
   "source": [
    "# ================== Evaluate ==================\n",
    "test_loss, test_accuracy, test_precision, test_recall, test_auc , test_auc_per_class= model.evaluate(X_test, y_test)\n",
    "print(f\"Test Loss: {test_loss:.4f}\")\n",
    "print(f\"Test Accuracy: {test_accuracy:.4f}\")\n",
    "print(f\"Test Precision: {test_precision:.4f}\")\n",
    "print(f\"Test Recall: {test_recall:.4f}\")\n",
    "print(f\"Test AUC: {test_auc:.4f}\")\n",
    "print(f\"Test AUC per class: {test_auc_per_class:.4f}\")"
   ]
  },
  {
   "cell_type": "code",
   "execution_count": 17,
   "id": "e2c8ac47",
   "metadata": {},
   "outputs": [
    {
     "name": "stdout",
     "output_type": "stream",
     "text": [
      "\n",
      " CLASSIFICATION REPORT:\n",
      "                    precision    recall  f1-score   support\n",
      "\n",
      "       Atelectasis       0.00      0.00      0.00        64\n",
      "      Cardiomegaly       0.00      0.00      0.00        27\n",
      "     Consolidation       0.00      0.00      0.00        27\n",
      "             Edema       0.00      0.00      0.00         9\n",
      "          Effusion       0.00      0.00      0.00        69\n",
      "         Emphysema       0.00      0.00      0.00        15\n",
      "          Fibrosis       0.00      0.00      0.00        30\n",
      "           Healthy       0.57      1.00      0.72       416\n",
      "            Hernia       0.00      0.00      0.00         3\n",
      "      Infiltration       0.20      0.02      0.03       131\n",
      "              Mass       0.00      0.00      0.00        15\n",
      "            Nodule       0.00      0.00      0.00        39\n",
      "Pleural_Thickening       0.00      0.00      0.00        24\n",
      "         Pneumonia       0.00      0.00      0.00         8\n",
      "      Pneumothorax       0.00      0.00      0.00        18\n",
      "\n",
      "         micro avg       0.56      0.47      0.51       895\n",
      "         macro avg       0.05      0.07      0.05       895\n",
      "      weighted avg       0.29      0.47      0.34       895\n",
      "       samples avg       0.56      0.57      0.56       895\n",
      "\n"
     ]
    }
   ],
   "source": [
    "import joblib\n",
    "\n",
    "mlb = joblib.load(r'E:\\AIML-Projects\\Chest-X-ray-Disease-Classification\\models\\multilabel_binarizer.pkl')\n",
    "\n",
    "y_pred = model.predict(X_test, verbose=0)\n",
    "y_pred_binary = (y_pred > 0.3).astype(int) \n",
    "\n",
    "# Classification report\n",
    "from sklearn.metrics import classification_report\n",
    "print(\"\\n CLASSIFICATION REPORT:\")\n",
    "print(classification_report(y_test, y_pred_binary, target_names=mlb.classes_, zero_division=0))"
   ]
  },
  {
   "cell_type": "code",
   "execution_count": 22,
   "id": "694ac779",
   "metadata": {},
   "outputs": [
    {
     "data": {
      "image/png": "[encoded data removed]",
      "text/plain": [
       "<Figure size 1200x600 with 2 Axes>"
      ]
     },
     "metadata": {},
     "output_type": "display_data"
    }
   ],
   "source": [
    "import matplotlib.pyplot as plt\n",
    "\n",
    "# ================== Plot Training Curves ==================\n",
    "plt.figure(figsize=(12,6))\n",
    "plt.subplot(1,2,1)\n",
    "plt.plot(history.history['loss'], label='train_loss')\n",
    "plt.plot(history.history['val_loss'], label='val_loss')\n",
    "plt.legend()\n",
    "plt.title(\"Loss\")\n",
    "\n",
    "plt.subplot(1,2,2)\n",
    "plt.plot(history.history['auc'], label='train_auc')\n",
    "plt.plot(history.history['val_auc'], label='val_auc')\n",
    "plt.legend()\n",
    "plt.title(\"AUC\")\n",
    "\n",
    "plt.savefig(r'E:\\AIML-Projects\\Chest-X-ray-Disease-Classification\\curves\\pretrained_training_curves.png')\n",
    "plt.show()"
   ]
  },
  {
   "cell_type": "code",
   "execution_count": 19,
   "id": "12fd93eb",
   "metadata": {},
   "outputs": [
    {
     "name": "stderr",
     "output_type": "stream",
     "text": [
      "c:\\Users\\THAMIZH\\miniconda3\\envs\\gpu_env\\lib\\site-packages\\keras\\src\\engine\\training.py:3103: UserWarning: You are saving your model as an HDF5 file via `model.save()`. This file format is considered legacy. We recommend using instead the native Keras format, e.g. `model.save('my_model.keras')`.\n",
      "  saving_api.save_model(\n"
     ]
    },
    {
     "name": "stdout",
     "output_type": "stream",
     "text": [
      "💾 Model saved as 'chest_xray_final_model.h5'\n"
     ]
    }
   ],
   "source": [
    "# Save the final model\n",
    "model.save(r'E:\\AIML-Projects\\Chest-X-ray-Disease-Classification\\models\\augmented_model.h5')\n",
    "print(\"💾 Model saved as 'chest_xray_final_model.h5'\")"
   ]
  },
  {
   "cell_type": "code",
   "execution_count": 20,
   "id": "2af915b4",
   "metadata": {},
   "outputs": [
    {
     "name": "stdout",
     "output_type": "stream",
     "text": [
      "💾 Training history saved\n"
     ]
    }
   ],
   "source": [
    "\n",
    "# Save training history\n",
    "np.save(r'E:\\AIML-Projects\\Chest-X-ray-Disease-Classification\\models\\augmented_training_history.npy', history.history)\n",
    "print(\"💾 Training history saved\")"
   ]
  },
  {
   "cell_type": "code",
   "execution_count": null,
   "id": "8e851da3",
   "metadata": {},
   "outputs": [],
   "source": []
  }
 ],
 "metadata": {
  "kernelspec": {
   "display_name": "gpu_env",
   "language": "python",
   "name": "python3"
  },
  "language_info": {
   "codemirror_mode": {
    "name": "ipython",
    "version": 3
   },
   "file_extension": ".py",
   "mimetype": "text/x-python",
   "name": "python",
   "nbconvert_exporter": "python",
   "pygments_lexer": "ipython3",
   "version": "3.10.18"
  }
 },
 "nbformat": 4,
 "nbformat_minor": 5
}
