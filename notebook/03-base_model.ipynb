{
 "cells": [
  {
   "cell_type": "markdown",
   "id": "ac116501",
   "metadata": {},
   "source": [
    "## `step-1`: Load Preprocessed Data"
   ]
  },
  {
   "cell_type": "markdown",
   "id": "e3c498a0",
   "metadata": {},
   "source": [
    "- X_train\n",
    "- X_val\n",
    "- X_test\n",
    "- y_train\n",
    "- y_val\n",
    "- y_test"
   ]
  },
  {
   "cell_type": "code",
   "execution_count": 7,
   "id": "a32e8d5b",
   "metadata": {},
   "outputs": [],
   "source": [
    "# ========= Import Libraries =========\n",
    "import numpy as np\n",
    "\n"
   ]
  },
  {
   "cell_type": "code",
   "execution_count": 8,
   "id": "a1497074",
   "metadata": {},
   "outputs": [
    {
     "name": "stdout",
     "output_type": "stream",
     "text": [
      "(2208, 224, 224, 3) (2208, 15)\n",
      "(736, 224, 224, 3) (736, 15)\n",
      "(737, 224, 224, 3) (737, 15)\n"
     ]
    }
   ],
   "source": [
    "X_train = np.load(r'E:\\AIML-Projects\\Chest-X-ray-Disease-Classification\\Preprocessed_Data\\X_train.npy', allow_pickle=True)\n",
    "X_val = np.load(r'E:\\AIML-Projects\\Chest-X-ray-Disease-Classification\\Preprocessed_Data\\X_val.npy', allow_pickle=True)\n",
    "X_test = np.load(r'E:\\AIML-Projects\\Chest-X-ray-Disease-Classification\\Preprocessed_Data\\X_test.npy', allow_pickle=True)\n",
    "y_train = np.load(r'E:\\AIML-Projects\\Chest-X-ray-Disease-Classification\\Preprocessed_Data\\y_train.npy', allow_pickle=True)\n",
    "y_val = np.load(r'E:\\AIML-Projects\\Chest-X-ray-Disease-Classification\\Preprocessed_Data\\y_val.npy', allow_pickle=True)\n",
    "y_test = np.load(r'E:\\AIML-Projects\\Chest-X-ray-Disease-Classification\\Preprocessed_Data\\y_test.npy', allow_pickle=True)\n",
    "\n",
    "print(X_train.shape, y_train.shape)\n",
    "print(X_val.shape, y_val.shape)\n",
    "print(X_test.shape, y_test.shape)"
   ]
  },
  {
   "cell_type": "code",
   "execution_count": 15,
   "id": "a97b1ff5",
   "metadata": {},
   "outputs": [],
   "source": [
    "import tensorflow as tf\n",
    "from tensorflow.keras import layers, optimizers, metrics\n",
    "from tensorflow.keras.applications import DenseNet121\n",
    "from sklearn.metrics import classification_report, confusion_matrix, roc_auc_score, accuracy_score\n",
    "\n",
    "NUM_CLASSES = len(y_train[0])"
   ]
  },
  {
   "cell_type": "code",
   "execution_count": 16,
   "id": "f71cbf7c",
   "metadata": {},
   "outputs": [
    {
     "name": "stdout",
     "output_type": "stream",
     "text": [
      "Model: \"sequential_3\"\n",
      "_________________________________________________________________\n",
      " Layer (type)                Output Shape              Param #   \n",
      "=================================================================\n",
      " densenet121 (Functional)    (None, 7, 7, 1024)        7037504   \n",
      "                                                                 \n",
      " global_average_pooling2d_4  (None, 1024)              0         \n",
      "  (GlobalAveragePooling2D)                                       \n",
      "                                                                 \n",
      " dropout_9 (Dropout)         (None, 1024)              0         \n",
      "                                                                 \n",
      " dense_9 (Dense)             (None, 521)               534025    \n",
      "                                                                 \n",
      " dropout_10 (Dropout)        (None, 521)               0         \n",
      "                                                                 \n",
      " dense_10 (Dense)            (None, 256)               133632    \n",
      "                                                                 \n",
      " dropout_11 (Dropout)        (None, 256)               0         \n",
      "                                                                 \n",
      " dense_11 (Dense)            (None, 15)                3855      \n",
      "                                                                 \n",
      "=================================================================\n",
      "Total params: 7709016 (29.41 MB)\n",
      "Trainable params: 671512 (2.56 MB)\n",
      "Non-trainable params: 7037504 (26.85 MB)\n",
      "_________________________________________________________________\n"
     ]
    }
   ],
   "source": [
    "from tensorflow.keras.applications import DenseNet121\n",
    "from tensorflow.keras import layers, models, optimizers, metrics\n",
    "\n",
    "base_cnn = DenseNet121(weights='imagenet', include_top=False, input_shape=(224, 224, 3))\n",
    "base_cnn.trainable = False  # freeze backbone initially\n",
    "\n",
    "model = models.Sequential([\n",
    "    base_cnn,\n",
    "    layers.GlobalAveragePooling2D(),\n",
    "    layers.Dropout(0.3),\n",
    "    layers.Dense(521, activation='relu'),\n",
    "    layers.Dropout(0.3),\n",
    "    layers.Dense(256, activation='relu'),\n",
    "    layers.Dropout(0.5),\n",
    "    layers.Dense(NUM_CLASSES, activation='sigmoid')\n",
    "])\n",
    "\n",
    "model.compile(\n",
    "    optimizer=optimizers.Adam(learning_rate=1e-4),\n",
    "    loss=\"binary_crossentropy\",\n",
    "    metrics=[\n",
    "        metrics.AUC(name=\"auc\", multi_label=True),\n",
    "        metrics.AUC(name=\"auprc\", curve=\"PR\", multi_label=True),\n",
    "        metrics.Precision(name=\"precision\"),\n",
    "        metrics.Recall(name=\"recall\")\n",
    "    ]\n",
    ")\n",
    "\n",
    "model.summary()"
   ]
  },
  {
   "cell_type": "code",
   "execution_count": 17,
   "id": "eeb58b84",
   "metadata": {},
   "outputs": [],
   "source": [
    "# ================== Callbacks ==================\n",
    "\n",
    "callbacks = [\n",
    "    tf.keras.callbacks.EarlyStopping(\n",
    "        monitor=\"val_loss\",\n",
    "        patience=3,\n",
    "        restore_best_weights=True\n",
    "    ),\n",
    "    tf.keras.callbacks.ModelCheckpoint(\n",
    "        filepath=\"best_model.h5\",\n",
    "        monitor=\"val_loss\",\n",
    "        save_best_only=True,\n",
    "        verbose=1\n",
    "    )\n",
    "]"
   ]
  },
  {
   "cell_type": "code",
   "execution_count": 18,
   "id": "df3d20c9",
   "metadata": {},
   "outputs": [
    {
     "name": "stdout",
     "output_type": "stream",
     "text": [
      "Epoch 1/20\n",
      "69/69 [==============================] - ETA: 0s - loss: 1.0984 - auc: 0.5040 - auprc: 0.0806 - precision: 0.1743 - recall: 0.3745\n",
      "Epoch 1: val_loss improved from inf to 0.30223, saving model to best_model.h5\n"
     ]
    },
    {
     "name": "stderr",
     "output_type": "stream",
     "text": [
      "c:\\Users\\THAMIZH\\miniconda3\\envs\\gpu_env\\lib\\site-packages\\keras\\src\\engine\\training.py:3103: UserWarning: You are saving your model as an HDF5 file via `model.save()`. This file format is considered legacy. We recommend using instead the native Keras format, e.g. `model.save('my_model.keras')`.\n",
      "  saving_api.save_model(\n"
     ]
    },
    {
     "name": "stdout",
     "output_type": "stream",
     "text": [
      "69/69 [==============================] - 244s 3s/step - loss: 1.0984 - auc: 0.5040 - auprc: 0.0806 - precision: 0.1743 - recall: 0.3745 - val_loss: 0.3022 - val_auc: 0.5292 - val_auprc: 0.0944 - val_precision: 0.5834 - val_recall: 0.4780\n",
      "Epoch 2/20\n",
      "69/69 [==============================] - ETA: 0s - loss: 0.5024 - auc: 0.5177 - auprc: 0.0842 - precision: 0.2954 - recall: 0.3411\n",
      "Epoch 2: val_loss improved from 0.30223 to 0.23286, saving model to best_model.h5\n",
      "69/69 [==============================] - 234s 3s/step - loss: 0.5024 - auc: 0.5177 - auprc: 0.0842 - precision: 0.2954 - recall: 0.3411 - val_loss: 0.2329 - val_auc: 0.5454 - val_auprc: 0.0955 - val_precision: 0.5830 - val_recall: 0.4802\n",
      "Epoch 3/20\n",
      "69/69 [==============================] - ETA: 0s - loss: 0.4145 - auc: 0.5042 - auprc: 0.0852 - precision: 0.3065 - recall: 0.3482\n",
      "Epoch 3: val_loss improved from 0.23286 to 0.21896, saving model to best_model.h5\n",
      "69/69 [==============================] - 218s 3s/step - loss: 0.4145 - auc: 0.5042 - auprc: 0.0852 - precision: 0.3065 - recall: 0.3482 - val_loss: 0.2190 - val_auc: 0.5489 - val_auprc: 0.0994 - val_precision: 0.5836 - val_recall: 0.4814\n",
      "Epoch 4/20\n",
      "69/69 [==============================] - ETA: 0s - loss: 0.3503 - auc: 0.5135 - auprc: 0.0871 - precision: 0.3468 - recall: 0.3295\n",
      "Epoch 4: val_loss did not improve from 0.21896\n",
      "69/69 [==============================] - 212s 3s/step - loss: 0.3503 - auc: 0.5135 - auprc: 0.0871 - precision: 0.3468 - recall: 0.3295 - val_loss: 0.2206 - val_auc: 0.5542 - val_auprc: 0.1040 - val_precision: 0.5857 - val_recall: 0.4825\n",
      "Epoch 5/20\n",
      "69/69 [==============================] - ETA: 0s - loss: 0.3284 - auc: 0.5173 - auprc: 0.0852 - precision: 0.3542 - recall: 0.3366\n",
      "Epoch 5: val_loss did not improve from 0.21896\n",
      "69/69 [==============================] - 211s 3s/step - loss: 0.3284 - auc: 0.5173 - auprc: 0.0852 - precision: 0.3542 - recall: 0.3366 - val_loss: 0.2237 - val_auc: 0.5690 - val_auprc: 0.1021 - val_precision: 0.5855 - val_recall: 0.4565\n",
      "Epoch 6/20\n",
      "69/69 [==============================] - ETA: 0s - loss: 0.3063 - auc: 0.5186 - auprc: 0.0867 - precision: 0.3877 - recall: 0.3328\n",
      "Epoch 6: val_loss improved from 0.21896 to 0.21746, saving model to best_model.h5\n",
      "69/69 [==============================] - 217s 3s/step - loss: 0.3063 - auc: 0.5186 - auprc: 0.0867 - precision: 0.3877 - recall: 0.3328 - val_loss: 0.2175 - val_auc: 0.5709 - val_auprc: 0.0976 - val_precision: 0.5809 - val_recall: 0.4746\n",
      "Epoch 7/20\n",
      "69/69 [==============================] - ETA: 0s - loss: 0.2960 - auc: 0.5139 - auprc: 0.0863 - precision: 0.3957 - recall: 0.3219\n",
      "Epoch 7: val_loss did not improve from 0.21746\n",
      "69/69 [==============================] - 223s 3s/step - loss: 0.2960 - auc: 0.5139 - auprc: 0.0863 - precision: 0.3957 - recall: 0.3219 - val_loss: 0.2222 - val_auc: 0.5703 - val_auprc: 0.1025 - val_precision: 0.5858 - val_recall: 0.4395\n",
      "Epoch 8/20\n",
      "69/69 [==============================] - ETA: 0s - loss: 0.2779 - auc: 0.5301 - auprc: 0.0874 - precision: 0.4249 - recall: 0.3313\n",
      "Epoch 8: val_loss did not improve from 0.21746\n",
      "69/69 [==============================] - 212s 3s/step - loss: 0.2779 - auc: 0.5301 - auprc: 0.0874 - precision: 0.4249 - recall: 0.3313 - val_loss: 0.2204 - val_auc: 0.5780 - val_auprc: 0.1035 - val_precision: 0.5776 - val_recall: 0.4712\n",
      "Epoch 9/20\n",
      "69/69 [==============================] - ETA: 0s - loss: 0.2736 - auc: 0.5353 - auprc: 0.0856 - precision: 0.4408 - recall: 0.3317\n",
      "Epoch 9: val_loss did not improve from 0.21746\n",
      "69/69 [==============================] - 214s 3s/step - loss: 0.2736 - auc: 0.5353 - auprc: 0.0856 - precision: 0.4408 - recall: 0.3317 - val_loss: 0.2230 - val_auc: 0.5745 - val_auprc: 0.1036 - val_precision: 0.5903 - val_recall: 0.3989\n"
     ]
    }
   ],
   "source": [
    "# ================== Train ==================\n",
    "\n",
    "history = model.fit(\n",
    "    X_train, y_train,\n",
    "    batch_size=32,\n",
    "    epochs=20,\n",
    "    validation_data=(X_val, y_val),\n",
    "    verbose=1,\n",
    "    callbacks=callbacks\n",
    ")\n"
   ]
  },
  {
   "cell_type": "markdown",
   "id": "f4cb5fc4",
   "metadata": {},
   "source": [
    "#### Conclusion\n",
    "\n",
    "- This is not yet a good model:\n",
    "\n",
    "- AUC ~0.5–0.57 is basically close to random.\n",
    "\n",
    "- AUPRC is barely better than the prevalence baseline.\n",
    "\n",
    "- The network is mostly learning class imbalance bias (likely predicting negatives most of the time)."
   ]
  },
  {
   "cell_type": "markdown",
   "id": "5b92cbf3",
   "metadata": {},
   "source": [
    "#### Suggestion\n",
    "\n",
    "- Right now, your model is weak (random-level). To get meaningful results on multilabel imbalance (like chest X-rays), you need focal loss + class weights + fine-tuning the pretrained backbone."
   ]
  },
  {
   "cell_type": "code",
   "execution_count": 20,
   "id": "6fc9e43e",
   "metadata": {},
   "outputs": [
    {
     "name": "stdout",
     "output_type": "stream",
     "text": [
      "24/24 [==============================] - 58s 2s/step - loss: 0.2255 - auc: 0.5292 - auprc: 0.0854 - precision: 0.5622 - recall: 0.4547\n",
      "Test Loss: 0.2255\n",
      "Test AUC: 0.5292\n",
      "Test AUPRC: 0.0854\n",
      "Test Precision: 0.5622\n",
      "Test Recall: 0.4547\n"
     ]
    }
   ],
   "source": [
    "# ================== Evaluate ==================\n",
    "test_loss, test_auc, test_auprc, test_precision, test_recall = model.evaluate(X_test, y_test)\n",
    "print(f\"Test Loss: {test_loss:.4f}\")\n",
    "print(f\"Test AUC: {test_auc:.4f}\")\n",
    "print(f\"Test AUPRC: {test_auprc:.4f}\")\n",
    "print(f\"Test Precision: {test_precision:.4f}\")\n",
    "print(f\"Test Recall: {test_recall:.4f}\")"
   ]
  },
  {
   "cell_type": "code",
   "execution_count": 26,
   "id": "79f1a474",
   "metadata": {},
   "outputs": [
    {
     "name": "stdout",
     "output_type": "stream",
     "text": [
      "\n",
      " CLASSIFICATION REPORT:\n",
      "                    precision    recall  f1-score   support\n",
      "\n",
      "       Atelectasis       0.00      0.00      0.00        64\n",
      "      Cardiomegaly       0.00      0.00      0.00        27\n",
      "     Consolidation       0.00      0.00      0.00        27\n",
      "             Edema       0.00      0.00      0.00         9\n",
      "          Effusion       0.00      0.00      0.00        69\n",
      "         Emphysema       0.00      0.00      0.00        15\n",
      "          Fibrosis       0.00      0.00      0.00        30\n",
      "           Healthy       0.56      1.00      0.72       416\n",
      "            Hernia       0.00      0.00      0.00         3\n",
      "      Infiltration       0.25      0.02      0.04       131\n",
      "              Mass       0.00      0.00      0.00        15\n",
      "            Nodule       0.00      0.00      0.00        39\n",
      "Pleural_Thickening       0.00      0.00      0.00        24\n",
      "         Pneumonia       0.00      0.00      0.00         8\n",
      "      Pneumothorax       0.00      0.00      0.00        18\n",
      "\n",
      "         micro avg       0.55      0.47      0.51       895\n",
      "         macro avg       0.05      0.07      0.05       895\n",
      "      weighted avg       0.30      0.47      0.34       895\n",
      "       samples avg       0.56      0.57      0.56       895\n",
      "\n"
     ]
    }
   ],
   "source": [
    "import joblib\n",
    "\n",
    "mlb = joblib.load(r'E:\\AIML-Projects\\Chest-X-ray-Disease-Classification\\models\\multilabel_binarizer.pkl')\n",
    "\n",
    "y_pred = model.predict(X_test, verbose=0)\n",
    "y_pred_binary = (y_pred > 0.3).astype(int) \n",
    "\n",
    "# Classification report\n",
    "from sklearn.metrics import classification_report\n",
    "print(\"\\n CLASSIFICATION REPORT:\")\n",
    "print(classification_report(y_test, y_pred_binary, target_names=mlb.classes_, zero_division=0))"
   ]
  },
  {
   "cell_type": "code",
   "execution_count": 18,
   "id": "cf10c4ba",
   "metadata": {},
   "outputs": [
    {
     "data": {
      "image/png": "[encoded data removed]",
      "text/plain": [
       "<Figure size 1200x600 with 2 Axes>"
      ]
     },
     "metadata": {},
     "output_type": "display_data"
    }
   ],
   "source": [
    "import matplotlib.pyplot as plt\n",
    "import numpy as np\n",
    "\n",
    "# Load history\n",
    "history = np.load(\n",
    "    r\"E:\\AIML-Projects\\Chest-X-ray-Disease-Classification\\models\\training_history.npy\",\n",
    "    allow_pickle=True\n",
    ").item()\n",
    "\n",
    "# ================== Plot Training Curves ==================\n",
    "plt.figure(figsize=(12,6))\n",
    "\n",
    "# Loss curves\n",
    "plt.subplot(1,2,1)\n",
    "plt.plot(history['loss'], label='train_loss')\n",
    "plt.plot(history['val_loss'], label='val_loss')\n",
    "plt.legend()\n",
    "plt.title(\"Loss\")\n",
    "\n",
    "# AUC curves\n",
    "plt.subplot(1,2,2)\n",
    "plt.plot(history['auc'], label='train_auc')\n",
    "plt.plot(history['val_auc'], label='val_auc')\n",
    "plt.legend()\n",
    "plt.title(\"AUC\")\n",
    "\n",
    "plt.tight_layout()\n",
    "\n",
    "# Save first, then show\n",
    "plt.savefig(r'E:\\AIML-Projects\\Chest-X-ray-Disease-Classification\\curves\\base_training_curves.png')\n",
    "plt.show()\n"
   ]
  },
  {
   "cell_type": "code",
   "execution_count": 27,
   "id": "eab66300",
   "metadata": {},
   "outputs": [
    {
     "name": "stderr",
     "output_type": "stream",
     "text": [
      "c:\\Users\\THAMIZH\\miniconda3\\envs\\gpu_env\\lib\\site-packages\\keras\\src\\engine\\training.py:3103: UserWarning: You are saving your model as an HDF5 file via `model.save()`. This file format is considered legacy. We recommend using instead the native Keras format, e.g. `model.save('my_model.keras')`.\n",
      "  saving_api.save_model(\n"
     ]
    },
    {
     "name": "stdout",
     "output_type": "stream",
     "text": [
      "💾 Model saved as 'chest_xray_final_model.h5'\n"
     ]
    }
   ],
   "source": [
    "# Save the final model\n",
    "model.save(r'E:\\AIML-Projects\\Chest-X-ray-Disease-Classification\\models\\base_model.h5')\n",
    "print(\"💾 Model saved as 'chest_xray_final_model.h5'\")"
   ]
  },
  {
   "cell_type": "code",
   "execution_count": 28,
   "id": "99f9cf2d",
   "metadata": {},
   "outputs": [
    {
     "name": "stdout",
     "output_type": "stream",
     "text": [
      "💾 Training history saved\n"
     ]
    }
   ],
   "source": [
    "\n",
    "# Save training history\n",
    "np.save(r'E:\\AIML-Projects\\Chest-X-ray-Disease-Classification\\models\\training_history.npy', history.history)\n",
    "print(\"💾 Training history saved\")"
   ]
  },
  {
   "cell_type": "markdown",
   "id": "c2cc6c6e",
   "metadata": {},
   "source": [
    "## `Conclusion`\n",
    "\n",
    "### What to Try Next\n",
    "\n",
    "#### **Better Loss for Imbalance**\n",
    "- Replace binary_crossentropy with Focal Loss\n",
    "\n",
    "#### **Class Weights**\n",
    "- Compute positive/negative frequency per class and pass class_weight in .fit(). This pushes the model to care more about rare diseases.\n",
    "\n",
    "#### **Fine-tuning**\n",
    "- After a few frozen-epoch warmups, unfreeze DenseNet121 layers and continue training at a lower LR (1e-5). This usually improves AUC drastically.\n",
    "\n",
    "#### **Data Augmentation**\n",
    "- Use heavy augmentation (ImageDataGenerator or tf.keras.layers) — flips, rotations, brightness — to improve generalization.\n",
    "\n",
    "#### **Evaluation Metrics**\n",
    "- Track per-class AUC instead of just overall AUC. Sometimes average looks poor but some classes do much better"
   ]
  },
  {
   "cell_type": "markdown",
   "id": "a14125d1",
   "metadata": {},
   "source": []
  }
 ],
 "metadata": {
  "kernelspec": {
   "display_name": "gpu_env",
   "language": "python",
   "name": "python3"
  },
  "language_info": {
   "codemirror_mode": {
    "name": "ipython",
    "version": 3
   },
   "file_extension": ".py",
   "mimetype": "text/x-python",
   "name": "python",
   "nbconvert_exporter": "python",
   "pygments_lexer": "ipython3",
   "version": "3.10.18"
  }
 },
 "nbformat": 4,
 "nbformat_minor": 5
}
